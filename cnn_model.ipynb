{
 "cells": [
  {
   "cell_type": "code",
   "execution_count": 2,
   "metadata": {},
   "outputs": [
    {
     "name": "stderr",
     "output_type": "stream",
     "text": [
      "C:\\Users\\Triloki-Gupta\\Anaconda3\\envs\\tensorflow\\lib\\site-packages\\ipykernel_launcher.py:14: UserWarning: Update your `Conv2D` call to the Keras 2 API: `Conv2D(32, (3, 3), input_shape=(64, 64, 3..., activation=\"relu\")`\n",
      "  \n",
      "C:\\Users\\Triloki-Gupta\\Anaconda3\\envs\\tensorflow\\lib\\site-packages\\ipykernel_launcher.py:20: UserWarning: Update your `Conv2D` call to the Keras 2 API: `Conv2D(32, (3, 3), activation=\"relu\")`\n",
      "C:\\Users\\Triloki-Gupta\\Anaconda3\\envs\\tensorflow\\lib\\site-packages\\ipykernel_launcher.py:24: UserWarning: Update your `Conv2D` call to the Keras 2 API: `Conv2D(64, (3, 3), activation=\"relu\")`\n"
     ]
    },
    {
     "name": "stdout",
     "output_type": "stream",
     "text": [
      "Found 45500 images belonging to 26 classes.\n",
      "Found 6500 images belonging to 26 classes.\n",
      "Epoch 1/25\n",
      "800/800 [==============================] - 312s 390ms/step - loss: 2.0413 - acc: 0.3817 - val_loss: 0.6050 - val_acc: 0.8114\n",
      "Epoch 2/25\n",
      "800/800 [==============================] - 279s 349ms/step - loss: 0.7095 - acc: 0.7619 - val_loss: 0.2816 - val_acc: 0.9357\n",
      "Epoch 3/25\n",
      "800/800 [==============================] - 284s 355ms/step - loss: 0.4507 - acc: 0.8447 - val_loss: 0.2087 - val_acc: 0.9568\n",
      "Epoch 4/25\n",
      "800/800 [==============================] - 272s 340ms/step - loss: 0.3368 - acc: 0.8842 - val_loss: 0.1747 - val_acc: 0.9640\n",
      "Epoch 5/25\n",
      "800/800 [==============================] - 286s 358ms/step - loss: 0.2638 - acc: 0.9097 - val_loss: 0.1310 - val_acc: 0.9708\n",
      "Epoch 6/25\n",
      "800/800 [==============================] - 282s 352ms/step - loss: 0.2357 - acc: 0.9160 - val_loss: 0.1355 - val_acc: 0.9805\n",
      "Epoch 7/25\n",
      "800/800 [==============================] - 293s 367ms/step - loss: 0.1995 - acc: 0.9274 - val_loss: 0.1342 - val_acc: 0.9789\n",
      "Epoch 8/25\n",
      "800/800 [==============================] - 295s 368ms/step - loss: 0.1785 - acc: 0.9383 - val_loss: 0.1270 - val_acc: 0.9780\n",
      "Epoch 9/25\n",
      "800/800 [==============================] - 374s 468ms/step - loss: 0.1606 - acc: 0.9425 - val_loss: 0.1528 - val_acc: 0.9763\n",
      "Epoch 10/25\n",
      "800/800 [==============================] - 314s 393ms/step - loss: 0.1453 - acc: 0.9494 - val_loss: 0.1273 - val_acc: 0.9825\n",
      "Epoch 11/25\n",
      "800/800 [==============================] - 330s 413ms/step - loss: 0.1366 - acc: 0.9507 - val_loss: 0.0939 - val_acc: 0.9897\n",
      "Epoch 12/25\n",
      "800/800 [==============================] - 329s 411ms/step - loss: 0.1277 - acc: 0.9550 - val_loss: 0.0961 - val_acc: 0.9872\n",
      "Epoch 13/25\n",
      "800/800 [==============================] - 328s 410ms/step - loss: 0.1156 - acc: 0.9609 - val_loss: 0.0943 - val_acc: 0.9905\n",
      "Epoch 14/25\n",
      "800/800 [==============================] - 338s 423ms/step - loss: 0.1141 - acc: 0.9600 - val_loss: 0.0964 - val_acc: 0.9902\n",
      "Epoch 15/25\n",
      "800/800 [==============================] - 322s 402ms/step - loss: 0.1047 - acc: 0.9633 - val_loss: 0.0877 - val_acc: 0.9857\n",
      "Epoch 16/25\n",
      "800/800 [==============================] - 335s 419ms/step - loss: 0.0953 - acc: 0.9677 - val_loss: 0.0968 - val_acc: 0.9882\n",
      "Epoch 17/25\n",
      "800/800 [==============================] - 324s 405ms/step - loss: 0.0929 - acc: 0.9673 - val_loss: 0.1160 - val_acc: 0.9860\n",
      "Epoch 18/25\n",
      "800/800 [==============================] - 336s 420ms/step - loss: 0.0859 - acc: 0.9691 - val_loss: 0.0881 - val_acc: 0.9875\n",
      "Epoch 19/25\n",
      "800/800 [==============================] - 332s 415ms/step - loss: 0.0816 - acc: 0.9711 - val_loss: 0.1136 - val_acc: 0.9854\n",
      "Epoch 20/25\n",
      "800/800 [==============================] - 375s 469ms/step - loss: 0.0808 - acc: 0.9712 - val_loss: 0.0825 - val_acc: 0.9883\n",
      "Epoch 21/25\n",
      "800/800 [==============================] - 373s 466ms/step - loss: 0.0721 - acc: 0.9743 - val_loss: 0.0891 - val_acc: 0.9886\n",
      "Epoch 22/25\n",
      "800/800 [==============================] - 391s 488ms/step - loss: 0.0710 - acc: 0.9748 - val_loss: 0.1120 - val_acc: 0.9862\n",
      "Epoch 23/25\n",
      "800/800 [==============================] - 347s 434ms/step - loss: 0.0682 - acc: 0.9755 - val_loss: 0.0931 - val_acc: 0.9897\n",
      "Epoch 24/25\n",
      "800/800 [==============================] - 346s 432ms/step - loss: 0.0644 - acc: 0.9775 - val_loss: 0.1265 - val_acc: 0.9820\n",
      "Epoch 25/25\n",
      "800/800 [==============================] - 350s 437ms/step - loss: 0.0645 - acc: 0.9778 - val_loss: 0.1141 - val_acc: 0.9862\n",
      "dict_keys(['val_loss', 'val_acc', 'loss', 'acc'])\n"
     ]
    },
    {
     "data": {
      "image/png": "[encoded data removed]",
      "text/plain": [
       "<Figure size 432x288 with 1 Axes>"
      ]
     },
     "metadata": {
      "needs_background": "light"
     },
     "output_type": "display_data"
    },
    {
     "data": {
      "image/png": "[encoded data removed]",
      "text/plain": [
       "<Figure size 432x288 with 1 Axes>"
      ]
     },
     "metadata": {
      "needs_background": "light"
     },
     "output_type": "display_data"
    }
   ],
   "source": [
    "# Part 1 - Building the CNN\n",
    "#importing the Keras libraries and packages\n",
    "from keras.models import Sequential\n",
    "from keras.layers import Convolution2D\n",
    "from keras.layers import MaxPooling2D\n",
    "from keras.layers import Flatten\n",
    "from keras.layers import Dense, Dropout\n",
    "from keras import optimizers\n",
    "\n",
    "# Initialing the CNN\n",
    "classifier = Sequential()\n",
    "\n",
    "# Step 1 - Convolution Layer \n",
    "classifier.add(Convolution2D(32, 3,  3, input_shape = (64, 64, 3), activation = 'relu'))\n",
    "\n",
    "#step 2 - Pooling\n",
    "classifier.add(MaxPooling2D(pool_size =(2,2)))\n",
    "\n",
    "# Adding second convolution layer\n",
    "classifier.add(Convolution2D(32, 3,  3, activation = 'relu'))\n",
    "classifier.add(MaxPooling2D(pool_size =(2,2)))\n",
    "\n",
    "#Adding 3rd Concolution Layer\n",
    "classifier.add(Convolution2D(64, 3,  3, activation = 'relu'))\n",
    "classifier.add(MaxPooling2D(pool_size =(2,2)))\n",
    "\n",
    "\n",
    "#Step 3 - Flattening\n",
    "classifier.add(Flatten())\n",
    "\n",
    "#Step 4 - Full Connection\n",
    "classifier.add(Dense(256, activation = 'relu'))\n",
    "classifier.add(Dropout(0.5))\n",
    "classifier.add(Dense(26, activation = 'softmax'))\n",
    "\n",
    "#Compiling The CNN\n",
    "classifier.compile(\n",
    "              optimizer = optimizers.SGD(lr = 0.01),\n",
    "              loss = 'categorical_crossentropy',\n",
    "              metrics = ['accuracy'])\n",
    "\n",
    "#Part 2 Fittting the CNN to the image\n",
    "from keras.preprocessing.image import ImageDataGenerator\n",
    "train_datagen = ImageDataGenerator(\n",
    "        rescale=1./255,\n",
    "        shear_range=0.2,\n",
    "        zoom_range=0.2,\n",
    "        horizontal_flip=True)\n",
    "\n",
    "test_datagen = ImageDataGenerator(rescale=1./255)\n",
    "\n",
    "training_set = train_datagen.flow_from_directory(\n",
    "        'E:\\\\M.Tech_Project\\\\Simple-Sign-Language-Detector-master\\\\mydata\\\\training_set',\n",
    "        target_size=(64, 64),\n",
    "        batch_size=32,\n",
    "        class_mode='categorical')\n",
    "\n",
    "test_set = test_datagen.flow_from_directory(\n",
    "        'E:\\\\M.Tech_Project\\\\Simple-Sign-Language-Detector-master\\\\mydata\\\\test_set',\n",
    "        target_size=(64, 64),\n",
    "        batch_size=32,\n",
    "        class_mode='categorical')\n",
    "\n",
    "model = classifier.fit_generator(\n",
    "        training_set,\n",
    "        steps_per_epoch=800,\n",
    "        epochs=25,\n",
    "        validation_data = test_set,\n",
    "        validation_steps = 6500\n",
    "      )\n",
    "\n",
    "#Saving the model\n",
    "import h5py\n",
    "classifier.save('E:\\\\M.Tech_Project\\\\Simple-Sign-Language-Detector-master\\\\Trained_model.h5')\n",
    "print(model.history.keys())\n",
    "\n",
    "import matplotlib.pyplot as plt\n",
    "\n",
    "# summarize history for accuracy\n",
    "plt.plot(model.history['acc'])\n",
    "plt.plot(model.history['val_acc'])\n",
    "plt.title('model accuracy')\n",
    "plt.ylabel('accuracy')\n",
    "plt.xlabel('epoch')\n",
    "plt.legend(['train', 'test'], loc='upper left')\n",
    "plt.show()\n",
    "\n",
    "# summarize history for loss\n",
    "plt.plot(model.history['loss'])\n",
    "plt.plot(model.history['val_loss'])\n",
    "plt.title('model loss')\n",
    "plt.ylabel('loss')\n",
    "plt.xlabel('epoch')\n",
    "plt.legend(['train', 'test'], loc='upper left')\n",
    "plt.show()\n"
   ]
  },
  {
   "cell_type": "code",
   "execution_count": null,
   "metadata": {
    "collapsed": true
   },
   "outputs": [],
   "source": []
  }
 ],
 "metadata": {
  "kernelspec": {
   "display_name": "Python 3",
   "language": "python",
   "name": "python3"
  },
  "language_info": {
   "codemirror_mode": {
    "name": "ipython",
    "version": 3
   },
   "file_extension": ".py",
   "mimetype": "text/x-python",
   "name": "python",
   "nbconvert_exporter": "python",
   "pygments_lexer": "ipython3",
   "version": "3.6.2"
  }
 },
 "nbformat": 4,
 "nbformat_minor": 2
}
